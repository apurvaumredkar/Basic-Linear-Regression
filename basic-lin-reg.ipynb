{
  "cells": [
    {
      "cell_type": "markdown",
      "metadata": {
        "id": "view-in-github",
        "colab_type": "text"
      },
      "source": [
        "<a href=\"https://colab.research.google.com/github/apurvaumredkar/Basic-Linear-Regression/blob/main/basic-lin-reg.ipynb\" target=\"_parent\"><img src=\"https://colab.research.google.com/assets/colab-badge.svg\" alt=\"Open In Colab\"/></a>"
      ]
    },
    {
      "cell_type": "code",
      "execution_count": 6,
      "metadata": {
        "id": "sraytut9TP2f"
      },
      "outputs": [],
      "source": [
        "import torch"
      ]
    },
    {
      "cell_type": "code",
      "execution_count": 7,
      "metadata": {
        "id": "Y-CQ53h6TP2j"
      },
      "outputs": [],
      "source": [
        "if torch.cuda.is_available():\n",
        "    device = torch.device(\"cuda\")\n",
        "    x = torch.rand(2,2)\n",
        "    #x = torch.ones()\n",
        "    #x = torch.zeros()\n",
        "    #x = torch.Tensor()\n",
        "    x.to(device)        #shift tensor to gpu\n",
        "    x.to(\"cpu\")     #shift tensor from gpu to cpu"
      ]
    },
    {
      "cell_type": "code",
      "execution_count": 8,
      "metadata": {
        "id": "Gtg2qYoWTP2k"
      },
      "outputs": [],
      "source": [
        "x = torch.randn(2,3, requires_grad= True)\n",
        "y = x+2\n",
        "z = y*y*2\n",
        "z = z.mean()\n",
        "z.backward()\n",
        "# backward gradient calculation is applied on a scalar\n",
        "# if done on a vector, it will produce a runtime error\n",
        "# hence backward prop on vector requires passing a vector inside the backward function like\n",
        "# z = backward(v)       where v is a vector of same size as z\n",
        "\n",
        "# the backward tracking can be later disable by following 3 ways\n",
        "# say x is a tensor with required_grads=True .... initially\n",
        "# then 1) x.requires_grad_(False)       #trailing _ on function updates the the tensor values inplace\n",
        "#      2) y = x.detach()\n",
        "#      3) wrap around: with torch.no grad():            function"
      ]
    },
    {
      "cell_type": "code",
      "execution_count": 9,
      "metadata": {
        "colab": {
          "base_uri": "https://localhost:8080/"
        },
        "id": "3FIclkipTP2l",
        "outputId": "671af837-4ee5-4df4-9bec-959676575038"
      },
      "outputs": [
        {
          "output_type": "stream",
          "name": "stdout",
          "text": [
            "Model weights before training: tensor([0.], requires_grad=True), tensor([0.], requires_grad=True)\n",
            "Epoch 1/1: Loss: 13.781364440917969\n",
            "Model weights after training: tensor([3.3108], requires_grad=True), tensor([3.6652], requires_grad=True)\n"
          ]
        }
      ],
      "source": [
        "# required python libraries\n",
        "import torch\n",
        "import torch.nn as nn\n",
        "\n",
        "X = torch.tensor([[0.86502],[0.64069],[0.61051],[0.75493],[0.61482],[0.79766],[0.64399],[1.5438],[1.537],[1.0245]], dtype= torch.float32) #inputs\n",
        "Y = torch.tensor([[3.6065],[3.1351],[3.4433],[2.6266],[3.0649],[3.8292],[3.8205],[4.4203],[4.6108],[4.0953]] , dtype = torch.float32) #outputs\n",
        "\n",
        "n_samples, n_features = X.shape\n",
        "\n",
        "learning_rate = 0.5\n",
        "n_iters = 1 # last digit of roll num(86) = 6, hence 6-5 = 1\n",
        "\n",
        "loss = nn.MSELoss()\n",
        "\n",
        "# initializing weights as zero\n",
        "w = torch.zeros(1, requires_grad=True)\n",
        "b = torch.zeros(1, requires_grad=True)\n",
        "\n",
        "print(f\"Model weights before training: {w}, {b}\")\n",
        "\n",
        "# simple linear regression model\n",
        "def model(X):\n",
        "    return X @ w.t() + b\n",
        "\n",
        "for epoch in range(n_iters):\n",
        "        y_pred = model(X)\n",
        "        loss = loss(y_pred, Y)\n",
        "        # calculating loss\n",
        "        loss.backward()\n",
        "        with torch.no_grad():\n",
        "            w -= w.grad *learning_rate\n",
        "            b -= b.grad * learning_rate\n",
        "            # Set the gradients to zero\n",
        "            w.grad.zero_()\n",
        "            b.grad.zero_()\n",
        "        print(f\"Epoch {epoch+1}/{n_iters}: Loss: {loss}\")\n",
        "\n",
        "print(f\"Model weights after training: {w}, {b}\")\n",
        "\n",
        "\n"
      ]
    },
    {
      "cell_type": "code",
      "execution_count": 10,
      "metadata": {
        "colab": {
          "base_uri": "https://localhost:8080/"
        },
        "id": "78WrVeB4TP2m",
        "outputId": "22a6c50a-ee86-4acc-d7a5-98590aef9bd2"
      },
      "outputs": [
        {
          "output_type": "stream",
          "name": "stdout",
          "text": [
            "Prediction before training f(5): 2.331\n",
            "Epoch 1: Weights: 1.082 Loss: 45.08917\n",
            "Epoch 51: Weights: 1.974 Loss: 0.00389\n",
            "Epoch 101: Weights: 1.979 Loss: 0.00248\n",
            "Epoch 151: Weights: 1.983 Loss: 0.00158\n",
            "Epoch 201: Weights: 1.987 Loss: 0.00101\n",
            "Epoch 251: Weights: 1.989 Loss: 0.00064\n",
            "Epoch 301: Weights: 1.992 Loss: 0.00041\n",
            "Epoch 351: Weights: 1.993 Loss: 0.00026\n",
            "Epoch 401: Weights: 1.995 Loss: 0.00017\n",
            "Epoch 451: Weights: 1.996 Loss: 0.00011\n",
            "Prediction after training f(5): 10.000\n"
          ]
        }
      ],
      "source": [
        "# making a custom class of neural network model for linear regresssion\n",
        "import torch\n",
        "import torch.nn as nn\n",
        "\n",
        "X = torch.tensor([[1], [2], [3], [4], [6], [7]], dtype = torch.float32)       #inputs\n",
        "Y = torch.tensor([[2], [4], [6], [8], [12], [14]], dtype = torch.float32)       #outputs\n",
        "\n",
        "X_test = torch.tensor([[5]], dtype = torch.float32)\n",
        "\n",
        "n_samples, n_features = X.shape\n",
        "\n",
        "class LinearRegression(nn.Module):\n",
        "\n",
        "    def __init__(self, input_dim, output_dim):\n",
        "        super(LinearRegression, self).__init__()\n",
        "\n",
        "        self.lin = nn.Linear(input_dim, output_dim)\n",
        "\n",
        "    def forward(self, x):\n",
        "        return self.lin(x)\n",
        "\n",
        "model = LinearRegression(n_features, n_features)\n",
        "\n",
        "learning_rate = 0.01\n",
        "n_iters = 500\n",
        "\n",
        "opt = torch.optim.SGD(model.parameters(), lr= learning_rate)\n",
        "loss = nn.MSELoss()\n",
        "\n",
        "print(f\"Prediction before training f(5): {model(X_test).item():.3f}\")\n",
        "\n",
        "for epochs in range(n_iters):\n",
        "    y_pred = model(X)\n",
        "    l = loss(y_pred, Y)\n",
        "    l.backward()\n",
        "    opt.step()\n",
        "    opt.zero_grad()\n",
        "\n",
        "    if epochs % 50 == 0:\n",
        "        [w, b] = model.parameters()\n",
        "        print(f\"Epoch {epochs+1}: Weights: {w[0][0].item():.3f} Loss: {l:.5f}\")\n",
        "\n",
        "print(f\"Prediction after training f(5): {model(X_test).item():.3f}\")\n",
        "\n",
        "\n"
      ]
    }
  ],
  "metadata": {
    "kernelspec": {
      "display_name": "Python 3.10.6 64-bit",
      "language": "python",
      "name": "python3"
    },
    "language_info": {
      "codemirror_mode": {
        "name": "ipython",
        "version": 3
      },
      "file_extension": ".py",
      "mimetype": "text/x-python",
      "name": "python",
      "nbconvert_exporter": "python",
      "pygments_lexer": "ipython3",
      "version": "3.10.6"
    },
    "orig_nbformat": 4,
    "vscode": {
      "interpreter": {
        "hash": "916dbcbb3f70747c44a77c7bcd40155683ae19c65e1c03b4aa3499c5328201f1"
      }
    },
    "colab": {
      "provenance": [],
      "include_colab_link": true
    }
  },
  "nbformat": 4,
  "nbformat_minor": 0
}