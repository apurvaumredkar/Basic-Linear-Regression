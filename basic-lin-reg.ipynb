{
  "cells": [
    {
      "cell_type": "markdown",
      "metadata": {
        "id": "view-in-github",
        "colab_type": "text"
      },
      "source": [
        "<a href=\"https://colab.research.google.com/github/apurvaumredkar/Basic-Linear-Regression/blob/main/basic-lin-reg.ipynb\" target=\"_parent\"><img src=\"https://colab.research.google.com/assets/colab-badge.svg\" alt=\"Open In Colab\"/></a>"
      ]
    },
    {
      "cell_type": "code",
      "execution_count": null,
      "metadata": {
        "colab": {
          "base_uri": "https://localhost:8080/"
        },
        "id": "78WrVeB4TP2m",
        "outputId": "22a6c50a-ee86-4acc-d7a5-98590aef9bd2"
      },
      "outputs": [
        {
          "output_type": "stream",
          "name": "stdout",
          "text": [
            "Prediction before training f(5): 2.331\n",
            "Epoch 1: Weights: 1.082 Loss: 45.08917\n",
            "Epoch 51: Weights: 1.974 Loss: 0.00389\n",
            "Epoch 101: Weights: 1.979 Loss: 0.00248\n",
            "Epoch 151: Weights: 1.983 Loss: 0.00158\n",
            "Epoch 201: Weights: 1.987 Loss: 0.00101\n",
            "Epoch 251: Weights: 1.989 Loss: 0.00064\n",
            "Epoch 301: Weights: 1.992 Loss: 0.00041\n",
            "Epoch 351: Weights: 1.993 Loss: 0.00026\n",
            "Epoch 401: Weights: 1.995 Loss: 0.00017\n",
            "Epoch 451: Weights: 1.996 Loss: 0.00011\n",
            "Prediction after training f(5): 10.000\n"
          ]
        }
      ],
      "source": [
        "# making a custom class of neural network model for linear regresssion\n",
        "import torch\n",
        "import torch.nn as nn\n",
        "\n",
        "X = torch.tensor([[1], [2], [3], [4], [6], [7]], dtype = torch.float32)       #inputs\n",
        "Y = torch.tensor([[2], [4], [6], [8], [12], [14]], dtype = torch.float32)       #outputs\n",
        "\n",
        "X_test = torch.tensor([[5]], dtype = torch.float32)\n",
        "\n",
        "n_samples, n_features = X.shape\n",
        "\n",
        "class LinearRegression(nn.Module):\n",
        "\n",
        "    def __init__(self, input_dim, output_dim):\n",
        "        super(LinearRegression, self).__init__()\n",
        "\n",
        "        self.lin = nn.Linear(input_dim, output_dim)\n",
        "\n",
        "    def forward(self, x):\n",
        "        return self.lin(x)\n",
        "\n",
        "model = LinearRegression(n_features, n_features)\n",
        "\n",
        "learning_rate = 0.01\n",
        "n_iters = 500\n",
        "\n",
        "opt = torch.optim.SGD(model.parameters(), lr= learning_rate)\n",
        "loss = nn.MSELoss()\n",
        "\n",
        "print(f\"Prediction before training f(5): {model(X_test).item():.3f}\")\n",
        "\n",
        "for epochs in range(n_iters):\n",
        "    y_pred = model(X)\n",
        "    l = loss(y_pred, Y)\n",
        "    l.backward()\n",
        "    opt.step()\n",
        "    opt.zero_grad()\n",
        "\n",
        "    if epochs % 50 == 0:\n",
        "        [w, b] = model.parameters()\n",
        "        print(f\"Epoch {epochs+1}: Weights: {w[0][0].item():.3f} Loss: {l:.5f}\")\n",
        "\n",
        "print(f\"Prediction after training f(5): {model(X_test).item():.3f}\")\n",
        "\n",
        "\n"
      ]
    }
  ],
  "metadata": {
    "kernelspec": {
      "display_name": "Python 3.10.6 64-bit",
      "language": "python",
      "name": "python3"
    },
    "language_info": {
      "codemirror_mode": {
        "name": "ipython",
        "version": 3
      },
      "file_extension": ".py",
      "mimetype": "text/x-python",
      "name": "python",
      "nbconvert_exporter": "python",
      "pygments_lexer": "ipython3",
      "version": "3.10.6"
    },
    "orig_nbformat": 4,
    "vscode": {
      "interpreter": {
        "hash": "916dbcbb3f70747c44a77c7bcd40155683ae19c65e1c03b4aa3499c5328201f1"
      }
    },
    "colab": {
      "provenance": [],
      "include_colab_link": true
    }
  },
  "nbformat": 4,
  "nbformat_minor": 0
}